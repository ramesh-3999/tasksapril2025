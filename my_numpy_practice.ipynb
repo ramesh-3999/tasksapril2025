{
 "cells": [
  {
   "cell_type": "code",
   "execution_count": 1,
   "id": "e929492c-0776-46f3-82af-79526f1f3ee3",
   "metadata": {},
   "outputs": [
    {
     "name": "stdout",
     "output_type": "stream",
     "text": [
      "Collecting numpy\n",
      "  Downloading numpy-2.2.5-cp312-cp312-win_amd64.whl.metadata (60 kB)\n",
      "     ---------------------------------------- 0.0/60.8 kB ? eta -:--:--\n",
      "     ------ --------------------------------- 10.2/60.8 kB ? eta -:--:--\n",
      "     ------------ ------------------------- 20.5/60.8 kB 217.9 kB/s eta 0:00:01\n",
      "     ------------ ------------------------- 20.5/60.8 kB 217.9 kB/s eta 0:00:01\n",
      "     ------------------------- ------------ 41.0/60.8 kB 217.9 kB/s eta 0:00:01\n",
      "     ------------------------------- ------ 51.2/60.8 kB 262.6 kB/s eta 0:00:01\n",
      "     ------------------------------- ------ 51.2/60.8 kB 262.6 kB/s eta 0:00:01\n",
      "     -------------------------------------- 60.8/60.8 kB 180.1 kB/s eta 0:00:00\n",
      "Downloading numpy-2.2.5-cp312-cp312-win_amd64.whl (12.6 MB)\n",
      "   ---------------------------------------- 0.0/12.6 MB ? eta -:--:--\n",
      "   ---------------------------------------- 0.0/12.6 MB 1.3 MB/s eta 0:00:10\n",
      "   ---------------------------------------- 0.1/12.6 MB 1.3 MB/s eta 0:00:10\n",
      "   ---------------------------------------- 0.2/12.6 MB 1.3 MB/s eta 0:00:10\n",
      "    --------------------------------------- 0.2/12.6 MB 1.0 MB/s eta 0:00:12\n",
      "    --------------------------------------- 0.3/12.6 MB 1.2 MB/s eta 0:00:11\n",
      "   - -------------------------------------- 0.3/12.6 MB 1.2 MB/s eta 0:00:11\n",
      "   - -------------------------------------- 0.4/12.6 MB 1.3 MB/s eta 0:00:10\n",
      "   - -------------------------------------- 0.4/12.6 MB 1.2 MB/s eta 0:00:11\n",
      "   - -------------------------------------- 0.4/12.6 MB 1.2 MB/s eta 0:00:11\n",
      "   - -------------------------------------- 0.5/12.6 MB 1.1 MB/s eta 0:00:12\n",
      "   - -------------------------------------- 0.5/12.6 MB 1.0 MB/s eta 0:00:12\n",
      "   - -------------------------------------- 0.6/12.6 MB 1.1 MB/s eta 0:00:12\n",
      "   -- ------------------------------------- 0.7/12.6 MB 1.2 MB/s eta 0:00:11\n",
      "   -- ------------------------------------- 0.7/12.6 MB 1.2 MB/s eta 0:00:11\n",
      "   -- ------------------------------------- 0.8/12.6 MB 1.2 MB/s eta 0:00:10\n",
      "   -- ------------------------------------- 0.9/12.6 MB 1.3 MB/s eta 0:00:10\n",
      "   --- ------------------------------------ 1.0/12.6 MB 1.3 MB/s eta 0:00:09\n",
      "   --- ------------------------------------ 1.1/12.6 MB 1.4 MB/s eta 0:00:09\n",
      "   --- ------------------------------------ 1.2/12.6 MB 1.4 MB/s eta 0:00:09\n",
      "   ---- ----------------------------------- 1.3/12.6 MB 1.4 MB/s eta 0:00:08\n",
      "   ---- ----------------------------------- 1.4/12.6 MB 1.5 MB/s eta 0:00:08\n",
      "   ---- ----------------------------------- 1.5/12.6 MB 1.5 MB/s eta 0:00:08\n",
      "   ----- ---------------------------------- 1.6/12.6 MB 1.6 MB/s eta 0:00:08\n",
      "   ----- ---------------------------------- 1.8/12.6 MB 1.6 MB/s eta 0:00:07\n",
      "   ----- ---------------------------------- 1.8/12.6 MB 1.6 MB/s eta 0:00:07\n",
      "   ------ --------------------------------- 2.0/12.6 MB 1.7 MB/s eta 0:00:07\n",
      "   ------ --------------------------------- 2.1/12.6 MB 1.7 MB/s eta 0:00:07\n",
      "   ------- -------------------------------- 2.2/12.6 MB 1.8 MB/s eta 0:00:06\n",
      "   ------- -------------------------------- 2.4/12.6 MB 1.8 MB/s eta 0:00:06\n",
      "   ------- -------------------------------- 2.5/12.6 MB 1.8 MB/s eta 0:00:06\n",
      "   -------- ------------------------------- 2.7/12.6 MB 1.9 MB/s eta 0:00:06\n",
      "   --------- ------------------------------ 2.9/12.6 MB 1.9 MB/s eta 0:00:06\n",
      "   --------- ------------------------------ 3.0/12.6 MB 2.0 MB/s eta 0:00:05\n",
      "   --------- ------------------------------ 3.1/12.6 MB 2.0 MB/s eta 0:00:05\n",
      "   ---------- ----------------------------- 3.3/12.6 MB 2.0 MB/s eta 0:00:05\n",
      "   ---------- ----------------------------- 3.5/12.6 MB 2.1 MB/s eta 0:00:05\n",
      "   ----------- ---------------------------- 3.6/12.6 MB 2.1 MB/s eta 0:00:05\n",
      "   ----------- ---------------------------- 3.7/12.6 MB 2.1 MB/s eta 0:00:05\n",
      "   ------------ --------------------------- 3.9/12.6 MB 2.2 MB/s eta 0:00:05\n",
      "   ------------ --------------------------- 4.1/12.6 MB 2.2 MB/s eta 0:00:04\n",
      "   ------------- -------------------------- 4.2/12.6 MB 2.2 MB/s eta 0:00:04\n",
      "   -------------- ------------------------- 4.5/12.6 MB 2.3 MB/s eta 0:00:04\n",
      "   -------------- ------------------------- 4.6/12.6 MB 2.3 MB/s eta 0:00:04\n",
      "   -------------- ------------------------- 4.7/12.6 MB 2.3 MB/s eta 0:00:04\n",
      "   --------------- ------------------------ 5.0/12.6 MB 2.4 MB/s eta 0:00:04\n",
      "   ---------------- ----------------------- 5.1/12.6 MB 2.4 MB/s eta 0:00:04\n",
      "   ----------------- ---------------------- 5.4/12.6 MB 2.5 MB/s eta 0:00:03\n",
      "   ----------------- ---------------------- 5.6/12.6 MB 2.5 MB/s eta 0:00:03\n",
      "   ------------------ --------------------- 5.9/12.6 MB 2.6 MB/s eta 0:00:03\n",
      "   ------------------- -------------------- 6.0/12.6 MB 2.6 MB/s eta 0:00:03\n",
      "   ------------------- -------------------- 6.3/12.6 MB 2.6 MB/s eta 0:00:03\n",
      "   -------------------- ------------------- 6.5/12.6 MB 2.7 MB/s eta 0:00:03\n",
      "   --------------------- ------------------ 6.7/12.6 MB 2.7 MB/s eta 0:00:03\n",
      "   --------------------- ------------------ 6.9/12.6 MB 2.7 MB/s eta 0:00:03\n",
      "   ---------------------- ----------------- 7.2/12.6 MB 2.8 MB/s eta 0:00:02\n",
      "   ----------------------- ---------------- 7.4/12.6 MB 2.8 MB/s eta 0:00:02\n",
      "   ----------------------- ---------------- 7.6/12.6 MB 2.8 MB/s eta 0:00:02\n",
      "   ------------------------ --------------- 7.8/12.6 MB 2.9 MB/s eta 0:00:02\n",
      "   ------------------------- -------------- 8.1/12.6 MB 3.0 MB/s eta 0:00:02\n",
      "   -------------------------- ------------- 8.2/12.6 MB 2.9 MB/s eta 0:00:02\n",
      "   -------------------------- ------------- 8.4/12.6 MB 3.0 MB/s eta 0:00:02\n",
      "   --------------------------- ------------ 8.6/12.6 MB 3.0 MB/s eta 0:00:02\n",
      "   --------------------------- ------------ 8.6/12.6 MB 3.0 MB/s eta 0:00:02\n",
      "   --------------------------- ------------ 8.6/12.6 MB 2.9 MB/s eta 0:00:02\n",
      "   ---------------------------- ----------- 8.9/12.6 MB 3.0 MB/s eta 0:00:02\n",
      "   ----------------------------- ---------- 9.2/12.6 MB 3.0 MB/s eta 0:00:02\n",
      "   ----------------------------- ---------- 9.4/12.6 MB 3.0 MB/s eta 0:00:02\n",
      "   ------------------------------ --------- 9.8/12.6 MB 3.1 MB/s eta 0:00:01\n",
      "   ------------------------------- -------- 10.0/12.6 MB 3.1 MB/s eta 0:00:01\n",
      "   -------------------------------- ------- 10.3/12.6 MB 3.2 MB/s eta 0:00:01\n",
      "   --------------------------------- ------ 10.5/12.6 MB 3.3 MB/s eta 0:00:01\n",
      "   --------------------------------- ------ 10.7/12.6 MB 3.5 MB/s eta 0:00:01\n",
      "   ---------------------------------- ----- 10.8/12.6 MB 3.6 MB/s eta 0:00:01\n",
      "   ----------------------------------- ---- 11.2/12.6 MB 3.8 MB/s eta 0:00:01\n",
      "   ------------------------------------ --- 11.5/12.6 MB 3.9 MB/s eta 0:00:01\n",
      "   ------------------------------------ --- 11.6/12.6 MB 4.0 MB/s eta 0:00:01\n",
      "   ------------------------------------- -- 11.8/12.6 MB 4.0 MB/s eta 0:00:01\n",
      "   -------------------------------------- - 12.2/12.6 MB 4.1 MB/s eta 0:00:01\n",
      "   ---------------------------------------  12.5/12.6 MB 4.3 MB/s eta 0:00:01\n",
      "   ---------------------------------------  12.6/12.6 MB 4.4 MB/s eta 0:00:01\n",
      "   ---------------------------------------  12.6/12.6 MB 4.4 MB/s eta 0:00:01\n",
      "   ---------------------------------------  12.6/12.6 MB 4.4 MB/s eta 0:00:01\n",
      "   ---------------------------------------  12.6/12.6 MB 4.4 MB/s eta 0:00:01\n",
      "   ---------------------------------------  12.6/12.6 MB 4.4 MB/s eta 0:00:01\n",
      "   ---------------------------------------  12.6/12.6 MB 4.4 MB/s eta 0:00:01\n",
      "   ---------------------------------------  12.6/12.6 MB 4.4 MB/s eta 0:00:01\n",
      "   ---------------------------------------  12.6/12.6 MB 4.4 MB/s eta 0:00:01\n",
      "   ---------------------------------------  12.6/12.6 MB 4.4 MB/s eta 0:00:01\n",
      "   ---------------------------------------  12.6/12.6 MB 4.4 MB/s eta 0:00:01\n",
      "   ---------------------------------------  12.6/12.6 MB 4.4 MB/s eta 0:00:01\n",
      "   ---------------------------------------  12.6/12.6 MB 4.4 MB/s eta 0:00:01\n",
      "   ---------------------------------------  12.6/12.6 MB 4.4 MB/s eta 0:00:01\n",
      "   ---------------------------------------  12.6/12.6 MB 4.4 MB/s eta 0:00:01\n",
      "   ---------------------------------------  12.6/12.6 MB 4.4 MB/s eta 0:00:01\n",
      "   ---------------------------------------  12.6/12.6 MB 4.4 MB/s eta 0:00:01\n",
      "   ---------------------------------------- 12.6/12.6 MB 3.3 MB/s eta 0:00:00\n",
      "Installing collected packages: numpy\n",
      "Successfully installed numpy-2.2.5\n"
     ]
    },
    {
     "name": "stderr",
     "output_type": "stream",
     "text": [
      "\n",
      "[notice] A new release of pip is available: 24.0 -> 25.1\n",
      "[notice] To update, run: python.exe -m pip install --upgrade pip\n"
     ]
    }
   ],
   "source": [
    "!pip install numpy"
   ]
  },
  {
   "cell_type": "code",
   "execution_count": 2,
   "id": "c147da99-a155-44fc-ad31-ee375427ee6f",
   "metadata": {},
   "outputs": [],
   "source": [
    "import numpy as np"
   ]
  },
  {
   "cell_type": "code",
   "execution_count": 3,
   "id": "794c4609-2898-4d8e-8786-22fc65e301d8",
   "metadata": {},
   "outputs": [],
   "source": [
    "#Defining a numpy array with numbers and a string elements\n",
    "a=np.array([1,2,3,'R'])"
   ]
  },
  {
   "cell_type": "code",
   "execution_count": 4,
   "id": "a30c7d1f-d10a-4554-9f75-ea31506d6f8b",
   "metadata": {},
   "outputs": [
    {
     "data": {
      "text/plain": [
       "array(['1', '2', '3', 'R'], dtype='<U21')"
      ]
     },
     "execution_count": 4,
     "metadata": {},
     "output_type": "execute_result"
    }
   ],
   "source": [
    "#print a \n",
    "a"
   ]
  },
  {
   "cell_type": "code",
   "execution_count": 6,
   "id": "f7002e60-0921-4b94-826c-dad6532f7bed",
   "metadata": {},
   "outputs": [],
   "source": [
    "a=np.array(10)\n",
    "b=np.array([10,20,30])\n",
    "c=np.array([[1,2,3],[4,5,6]])\n",
    "d=np.array([[[1,2,3],[4,5,6]],[[1,2,3],[4,5,6]]])"
   ]
  },
  {
   "cell_type": "code",
   "execution_count": 74,
   "id": "a785006b-e58a-48cd-aa66-f3f213f03510",
   "metadata": {},
   "outputs": [
    {
     "name": "stdout",
     "output_type": "stream",
     "text": [
      "a dimension name is: 0\n",
      "b dimension name is : 1\n",
      "c dimension name is : 2\n",
      "d dimension name is : 3\n"
     ]
    }
   ],
   "source": [
    "#printing the dimension names of above mentioned arrays\n",
    "print(\"a dimension name is:\",a.ndim)#ndim function prints the dimention type\n",
    "print(\"b dimension name is :\",b.ndim)\n",
    "print(\"c dimension name is :\",c.ndim)\n",
    "print(\"d dimension name is :\",d.ndim)"
   ]
  },
  {
   "cell_type": "code",
   "execution_count": 9,
   "id": "3a76e384-7684-4095-9442-7e00786ea5d6",
   "metadata": {},
   "outputs": [
    {
     "name": "stdout",
     "output_type": "stream",
     "text": [
      "10\n",
      "Shape of a is: ()\n",
      "[10 20 30]\n",
      "Shape of b is: (3,)\n",
      "[[1 2 3]\n",
      " [4 5 6]]\n",
      "Shape of c is: (2, 3)\n",
      "[[[1 2 3]\n",
      "  [4 5 6]]\n",
      "\n",
      " [[1 2 3]\n",
      "  [4 5 6]]]\n",
      "Shape of d is: (2, 2, 3)\n"
     ]
    }
   ],
   "source": [
    "print(a)\n",
    "print(\"Shape of a is:\",a.shape)\n",
    "print(b)\n",
    "print(\"Shape of b is:\",b.shape)\n",
    "print(c)\n",
    "print(\"Shape of c is:\",c.shape)\n",
    "print(d)\n",
    "print(\"Shape of d is:\",d.shape)"
   ]
  },
  {
   "cell_type": "code",
   "execution_count": 23,
   "id": "fefb820b-8336-4bfb-b081-f16d330a37e7",
   "metadata": {},
   "outputs": [
    {
     "name": "stdout",
     "output_type": "stream",
     "text": [
      "int64\n",
      "int64\n",
      "int64\n"
     ]
    }
   ],
   "source": [
    "#print the datatype of the elements in variable c and d\n",
    "print(c.dtype)\n",
    "print(d.dtype)\n",
    "#print(b.dtype)"
   ]
  },
  {
   "cell_type": "code",
   "execution_count": 17,
   "id": "2ff63c9d-7017-4be3-a7a3-4b2da76f51a9",
   "metadata": {},
   "outputs": [
    {
     "name": "stdout",
     "output_type": "stream",
     "text": [
      "<class 'numpy.ndarray'>\n",
      "<class 'numpy.ndarray'>\n",
      "<class 'numpy.ndarray'>\n",
      "<class 'numpy.ndarray'>\n"
     ]
    }
   ],
   "source": [
    "#print the type of the variable a,b,c,d\n",
    "print(type(a))\n",
    "print(type(b))\n",
    "print(type(c))\n",
    "print(type(d))"
   ]
  },
  {
   "cell_type": "code",
   "execution_count": 24,
   "id": "43075897-e349-4acb-97b8-fc6e05ed1aca",
   "metadata": {},
   "outputs": [
    {
     "data": {
      "text/plain": [
       "2"
      ]
     },
     "execution_count": 24,
     "metadata": {},
     "output_type": "execute_result"
    }
   ],
   "source": [
    "#Length of the array \n",
    "len(d)"
   ]
  },
  {
   "cell_type": "code",
   "execution_count": null,
   "id": "6c29b701-622b-46e9-9ee5-5e4f55cbb89c",
   "metadata": {},
   "outputs": [],
   "source": [
    "Creating Numpy arrays\n",
    "There are multiple ways to create the arrays in Numpy"
   ]
  },
  {
   "cell_type": "code",
   "execution_count": 36,
   "id": "1691e759-2c7c-4996-8072-8add40365ed9",
   "metadata": {},
   "outputs": [
    {
     "name": "stdout",
     "output_type": "stream",
     "text": [
      "[1 2 3 4 5 6 7 8 9]\n"
     ]
    }
   ],
   "source": [
    "#Using a range function creat a numpy array using from 1 to 11\n",
    "abc=np.arange(1,10)\n",
    "print(abc)\n",
    "#Shape of this array is (10,) and it is 1D"
   ]
  },
  {
   "cell_type": "code",
   "execution_count": 62,
   "id": "f54f21e3-5683-4702-ae81-6e657d7c23eb",
   "metadata": {},
   "outputs": [
    {
     "data": {
      "text/plain": [
       "array([[1, 0, 0, 0, 0, 0, 0, 0, 0, 0],\n",
       "       [0, 1, 0, 0, 0, 0, 0, 0, 0, 0],\n",
       "       [0, 0, 1, 0, 0, 0, 0, 0, 0, 0],\n",
       "       [0, 0, 0, 1, 0, 0, 0, 0, 0, 0],\n",
       "       [0, 0, 0, 0, 1, 0, 0, 0, 0, 0],\n",
       "       [0, 0, 0, 0, 0, 1, 0, 0, 0, 0],\n",
       "       [0, 0, 0, 0, 0, 0, 1, 0, 0, 0],\n",
       "       [0, 0, 0, 0, 0, 0, 0, 1, 0, 0],\n",
       "       [0, 0, 0, 0, 0, 0, 0, 0, 1, 0],\n",
       "       [0, 0, 0, 0, 0, 0, 0, 0, 0, 1]])"
      ]
     },
     "execution_count": 62,
     "metadata": {},
     "output_type": "execute_result"
    }
   ],
   "source": [
    "#create numpy array using the eye \n",
    "np.eye(10,dtype=int)\n",
    "#output is 2D whith shape(10,10)"
   ]
  },
  {
   "cell_type": "code",
   "execution_count": 70,
   "id": "a6a9eef8-4200-4ee9-a9b1-17ed3d39580a",
   "metadata": {},
   "outputs": [
    {
     "data": {
      "text/plain": [
       "array([[0, 0],\n",
       "       [0, 0],\n",
       "       [0, 0]])"
      ]
     },
     "execution_count": 70,
     "metadata": {},
     "output_type": "execute_result"
    }
   ],
   "source": [
    "#create a numpy array with zero function with parameters (3,2) 3 rows and 2 columns\n",
    "np.zeros((3,2),dtype='int')#Default datatype id float\n"
   ]
  },
  {
   "cell_type": "code",
   "execution_count": 72,
   "id": "f6d6bb02-d533-43b9-8d55-fe513fb266da",
   "metadata": {},
   "outputs": [
    {
     "data": {
      "text/plain": [
       "array([[1, 1, 1, 1],\n",
       "       [1, 1, 1, 1],\n",
       "       [1, 1, 1, 1],\n",
       "       [1, 1, 1, 1],\n",
       "       [1, 1, 1, 1]])"
      ]
     },
     "execution_count": 72,
     "metadata": {},
     "output_type": "execute_result"
    }
   ],
   "source": [
    "#create a numpy array with complete 1's for a shape (5,4) with ones function\n",
    "np.ones((5,4),dtype=int)"
   ]
  },
  {
   "cell_type": "code",
   "execution_count": 77,
   "id": "7d50958e-1eaf-48ef-a1c1-61ec53a05a33",
   "metadata": {},
   "outputs": [
    {
     "data": {
      "text/plain": [
       "array([[3, 3, 3, 3, 3],\n",
       "       [3, 3, 3, 3, 3],\n",
       "       [3, 3, 3, 3, 3],\n",
       "       [3, 3, 3, 3, 3],\n",
       "       [3, 3, 3, 3, 3]])"
      ]
     },
     "execution_count": 77,
     "metadata": {},
     "output_type": "execute_result"
    }
   ],
   "source": [
    "#create a numpy array using the full function with a shape(5,5) and a element 3\n",
    "a=5\n",
    "b=5\n",
    "np.full((a,b),3)#Either I can pass the elements or variable to this function"
   ]
  },
  {
   "cell_type": "code",
   "execution_count": 88,
   "id": "0144d317-f941-4523-a08b-9081677db3ae",
   "metadata": {},
   "outputs": [
    {
     "data": {
      "text/plain": [
       "array([[1, 0, 0, 0, 0],\n",
       "       [0, 2, 0, 0, 0],\n",
       "       [0, 0, 3, 0, 0],\n",
       "       [0, 0, 0, 4, 0],\n",
       "       [0, 0, 0, 0, 5]])"
      ]
     },
     "execution_count": 88,
     "metadata": {},
     "output_type": "execute_result"
    }
   ],
   "source": [
    "#create a numpy array usingthe diag function by passing a list [1,2,3,4,5,6]\n",
    "list1=[1,2,3,4,5]#We can give list of any numbers like [3,5.64,1,73,68]\n",
    "np.diag(list1)"
   ]
  },
  {
   "cell_type": "code",
   "execution_count": 95,
   "id": "866c606d-f9f0-47e9-afc4-0e39862df35c",
   "metadata": {},
   "outputs": [
    {
     "name": "stdout",
     "output_type": "stream",
     "text": [
      "[1 2 3 4 5 6 7 8]\n",
      "(8,)\n",
      "1\n"
     ]
    }
   ],
   "source": [
    "#Reshape function\n",
    "x=np.arange(1,9)#\n",
    "print(x)\n",
    "print(x.shape)\n",
    "print(x.ndim)"
   ]
  },
  {
   "cell_type": "code",
   "execution_count": 99,
   "id": "e9e9fd8f-8b51-4d2d-b494-68a5af7e9f07",
   "metadata": {},
   "outputs": [
    {
     "name": "stdout",
     "output_type": "stream",
     "text": [
      "[[1 2 3 4]\n",
      " [5 6 7 8]]\n",
      "shape (2, 4)\n",
      "Dimension 2\n"
     ]
    }
   ],
   "source": [
    "#Reshape above 1D array to 2D array using reshape function with shape(2,4)\n",
    "n=x.reshape(2,4)\n",
    "print(n)\n",
    "print(\"shape\",n.shape)\n",
    "print(\"Dimension\",n.ndim)"
   ]
  },
  {
   "cell_type": "code",
   "execution_count": 101,
   "id": "ae5e04e4-f4d5-45e9-aba2-855d81483b70",
   "metadata": {},
   "outputs": [
    {
     "name": "stdout",
     "output_type": "stream",
     "text": [
      "[[[1 2]\n",
      "  [3 4]]\n",
      "\n",
      " [[5 6]\n",
      "  [7 8]]]\n"
     ]
    }
   ],
   "source": [
    "#reshape the array n to 3D using the shape(2,2,2)\n",
    "n1=n.reshape(2,2,2)\n",
    "print(n1)"
   ]
  },
  {
   "cell_type": "code",
   "execution_count": 105,
   "id": "1728c8e4-5500-4801-aa7a-d1a39bfc508f",
   "metadata": {},
   "outputs": [
    {
     "name": "stdout",
     "output_type": "stream",
     "text": [
      "(8,)\n",
      "[1 2 3 4 5 6 7 8]\n",
      "1\n"
     ]
    }
   ],
   "source": [
    "#using the ravel function--This function brings any dimension to 1D\n",
    "rav=n.ravel()\n",
    "print(rav.shape)\n",
    "print(rav)\n",
    "print(rav.ndim)"
   ]
  },
  {
   "cell_type": "code",
   "execution_count": 106,
   "id": "c3b7ffd7-3a9b-47f9-9164-c3365184d9e5",
   "metadata": {},
   "outputs": [
    {
     "name": "stdout",
     "output_type": "stream",
     "text": [
      "(8,)\n",
      "[1 2 3 4 5 6 7 8]\n",
      "1\n"
     ]
    }
   ],
   "source": [
    "#using the flatten function--This function brings any dimension to 1D\n",
    "flt=n.flatten()\n",
    "print(flt.shape)\n",
    "print(flt)\n",
    "print(flt.ndim)"
   ]
  },
  {
   "cell_type": "code",
   "execution_count": 110,
   "id": "3ddc5631-e4a3-4d96-9b41-d4583ed7dd80",
   "metadata": {},
   "outputs": [
    {
     "name": "stdout",
     "output_type": "stream",
     "text": [
      "[ 2  4  6  8 10 12 14 16]\n"
     ]
    },
    {
     "data": {
      "text/plain": [
       "array([ 2,  4,  6,  8, 10, 12, 14, 16])"
      ]
     },
     "execution_count": 110,
     "metadata": {},
     "output_type": "execute_result"
    }
   ],
   "source": [
    "#Array Index to accesss the individual elements\n",
    "a=np.arange(2,18,2)\n",
    "print(a)\n",
    "a"
   ]
  },
  {
   "cell_type": "code",
   "execution_count": 117,
   "id": "f048f9fc-8c27-49dd-b0a9-70edc4b5d8d7",
   "metadata": {},
   "outputs": [
    {
     "name": "stdout",
     "output_type": "stream",
     "text": [
      "10\n"
     ]
    },
    {
     "data": {
      "text/plain": [
       "np.int64(10)"
      ]
     },
     "execution_count": 117,
     "metadata": {},
     "output_type": "execute_result"
    }
   ],
   "source": [
    "#Acces the specifiic element from array\n",
    "print(a[4])\n",
    "a[4]#it gvies the value at index position 4 along with typ and OS"
   ]
  },
  {
   "cell_type": "code",
   "execution_count": 120,
   "id": "0aaacae0-1b74-40a4-a462-c27044b4c695",
   "metadata": {},
   "outputs": [
    {
     "data": {
      "text/plain": [
       "array([ 2,  6, 10, 14])"
      ]
     },
     "execution_count": 120,
     "metadata": {},
     "output_type": "execute_result"
    }
   ],
   "source": [
    "#Slicing on 1D array named a\n",
    "a[0:9:2]\n",
    "a[:9:2]"
   ]
  },
  {
   "cell_type": "code",
   "execution_count": 127,
   "id": "e5944816-0585-4572-b2ee-1cb70b0f9a9b",
   "metadata": {},
   "outputs": [
    {
     "name": "stdout",
     "output_type": "stream",
     "text": [
      "(3, 3)\n",
      "2\n"
     ]
    },
    {
     "data": {
      "text/plain": [
       "array([[1, 2, 3],\n",
       "       [4, 5, 6],\n",
       "       [7, 8, 9]])"
      ]
     },
     "execution_count": 127,
     "metadata": {},
     "output_type": "execute_result"
    }
   ],
   "source": [
    "#performing the Indexing and slicing on 2D array\n",
    "a=np.array([[1,2,3],[4,5,6],[7,8,9]]) \n",
    "print(a.shape)\n",
    "print(a.ndim)\n",
    "a"
   ]
  },
  {
   "cell_type": "code",
   "execution_count": 129,
   "id": "fa3e5cf1-663e-4ca4-97dc-df2918515bd3",
   "metadata": {},
   "outputs": [
    {
     "name": "stdout",
     "output_type": "stream",
     "text": [
      "9\n"
     ]
    }
   ],
   "source": [
    "#print the 3rd element from the 3rs row\n",
    "a[2,2]\n",
    "print(a[2,2])"
   ]
  },
  {
   "cell_type": "code",
   "execution_count": 131,
   "id": "2c7abf0c-4d03-4a61-8f1a-6b0ec7461a4f",
   "metadata": {},
   "outputs": [
    {
     "name": "stdout",
     "output_type": "stream",
     "text": [
      "8\n"
     ]
    }
   ],
   "source": [
    "#print the element 8 from the 3rs row\n",
    "print(a[2,1])"
   ]
  },
  {
   "cell_type": "code",
   "execution_count": 137,
   "id": "731d8894-2077-4f9a-89b7-1a214ad21f37",
   "metadata": {},
   "outputs": [
    {
     "name": "stdout",
     "output_type": "stream",
     "text": [
      "(2, 2, 3)\n",
      "3\n"
     ]
    },
    {
     "data": {
      "text/plain": [
       "array([[[ 1,  2,  3],\n",
       "        [ 4,  5,  6]],\n",
       "\n",
       "       [[ 8,  9, 10],\n",
       "        [11, 12, 13]]])"
      ]
     },
     "execution_count": 137,
     "metadata": {},
     "output_type": "execute_result"
    }
   ],
   "source": [
    "#print the shape of a array\n",
    "a=np.array([[[1,2,3],[4,5,6]],[[8,9,10],[11,12,13]]])\n",
    "print(a.shape)\n",
    "print(a.ndim)\n",
    "a#Create the a 3D array form a list"
   ]
  },
  {
   "cell_type": "code",
   "execution_count": 140,
   "id": "6948aee3-0d11-4ec0-8dfc-38148085d6df",
   "metadata": {},
   "outputs": [
    {
     "name": "stdout",
     "output_type": "stream",
     "text": [
      "12\n"
     ]
    }
   ],
   "source": [
    "# Acces the elements from the 3D array\n",
    "#Print the elenent 12 from above 3D array(2,2,3)\n",
    "# So 12 is in layer 2 and its index is 1,its in 2ns row qith index 1,its in 2nd colums and its index is 1\n",
    "print(a[1][1][1])"
   ]
  },
  {
   "cell_type": "code",
   "execution_count": 143,
   "id": "a9555b1a-2bae-4d96-bf74-c2f791f6d203",
   "metadata": {},
   "outputs": [
    {
     "name": "stdout",
     "output_type": "stream",
     "text": [
      "6\n"
     ]
    }
   ],
   "source": [
    "#print the element in 1st layes 2rd row and 3nd column\n",
    "print(a[0][1][2])"
   ]
  },
  {
   "cell_type": "code",
   "execution_count": 144,
   "id": "d0b6eb0b-710d-4828-856d-5ca39cfa52c2",
   "metadata": {},
   "outputs": [
    {
     "data": {
      "text/plain": [
       "array([1, 2, 3, 4, 5, 6, 7, 8, 9])"
      ]
     },
     "execution_count": 144,
     "metadata": {},
     "output_type": "execute_result"
    }
   ],
   "source": [
    "#Array slicing in 1D\n",
    "\n",
    "arr=np.arange(1,10)\n",
    "arr"
   ]
  },
  {
   "cell_type": "code",
   "execution_count": 146,
   "id": "a769534e-cb22-4c07-a660-645312d612ab",
   "metadata": {},
   "outputs": [
    {
     "data": {
      "text/plain": [
       "array([1, 3, 5, 7, 9])"
      ]
     },
     "execution_count": 146,
     "metadata": {},
     "output_type": "execute_result"
    }
   ],
   "source": [
    "#Sliceing--extract elements from 4 to 8\n",
    "arr[3:8]#here 3 and 8 are not elements they are index positions\n",
    "arr[0:10:2]"
   ]
  },
  {
   "cell_type": "markdown",
   "id": "438574dd-92c5-4e9f-8996-8257a91995d0",
   "metadata": {},
   "source": [
    "**slicing on 2D array**"
   ]
  },
  {
   "cell_type": "code",
   "execution_count": 148,
   "id": "0ec9108f-d20a-44b5-9327-17fbf6e519e6",
   "metadata": {},
   "outputs": [
    {
     "name": "stdout",
     "output_type": "stream",
     "text": [
      "(3, 3)\n",
      "2\n"
     ]
    },
    {
     "data": {
      "text/plain": [
       "array([[1, 2, 3],\n",
       "       [4, 5, 6],\n",
       "       [7, 8, 9]])"
      ]
     },
     "execution_count": 148,
     "metadata": {},
     "output_type": "execute_result"
    }
   ],
   "source": [
    "a=np.array([[1,2,3],[4,5,6],[7,8,9]]) \n",
    "print(a.shape)\n",
    "print(a.ndim)\n",
    "a"
   ]
  },
  {
   "cell_type": "code",
   "execution_count": 164,
   "id": "9d1f0128-bf68-48c9-a441-b6ad7609cd19",
   "metadata": {},
   "outputs": [
    {
     "name": "stdout",
     "output_type": "stream",
     "text": [
      "[3 6 9]\n"
     ]
    }
   ],
   "source": [
    "#In array a print index 2 for all rows\n",
    "print(a[:,2])"
   ]
  },
  {
   "cell_type": "code",
   "execution_count": 173,
   "id": "c1e22a21-58f2-4ffa-8604-07e4fb7ea232",
   "metadata": {},
   "outputs": [
    {
     "name": "stdout",
     "output_type": "stream",
     "text": [
      "[2 5 8]\n"
     ]
    }
   ],
   "source": [
    "#Printthe elements 2 5 8 as output\n",
    "print(a[:,1])"
   ]
  },
  {
   "cell_type": "code",
   "execution_count": 175,
   "id": "822b6157-8552-47a9-b46c-254209291947",
   "metadata": {},
   "outputs": [
    {
     "data": {
      "text/plain": [
       "array([[2, 3],\n",
       "       [5, 6],\n",
       "       [8, 9]])"
      ]
     },
     "execution_count": 175,
     "metadata": {},
     "output_type": "execute_result"
    }
   ],
   "source": [
    "#from all elements in a slice from index 1 till end\n",
    "a[0:,1:]"
   ]
  },
  {
   "cell_type": "markdown",
   "id": "b4d1220f-f6cc-4b54-836c-9360bcf11050",
   "metadata": {},
   "source": [
    "**Numpy copy vs view**"
   ]
  },
  {
   "cell_type": "code",
   "execution_count": 176,
   "id": "8508999b-7570-4a7a-8175-961f311a1464",
   "metadata": {},
   "outputs": [
    {
     "data": {
      "text/plain": [
       "array([0, 1, 2, 3, 4, 5, 6, 7, 8, 9])"
      ]
     },
     "execution_count": 176,
     "metadata": {},
     "output_type": "execute_result"
    }
   ],
   "source": [
    "x1=np.arange(10)\n",
    "x1"
   ]
  },
  {
   "cell_type": "code",
   "execution_count": 177,
   "id": "6708c7de-fd83-404f-b8e5-f4f0a73c7758",
   "metadata": {},
   "outputs": [
    {
     "name": "stdout",
     "output_type": "stream",
     "text": [
      "[0 1 2 3 4 5 6 7 8 9]\n",
      "[0 1 2 3 4 5 6 7 8 9]\n"
     ]
    }
   ],
   "source": [
    "#assign x2 to x1\n",
    "x2=x1\n",
    "#print both x1 and x2\n",
    "print(x1)\n",
    "print(x2)"
   ]
  },
  {
   "cell_type": "code",
   "execution_count": 178,
   "id": "ab116458-6792-405b-80b3-00145403f453",
   "metadata": {},
   "outputs": [
    {
     "name": "stdout",
     "output_type": "stream",
     "text": [
      "[10  1  2  3  4  5  6  7  8  9]\n",
      "[10  1  2  3  4  5  6  7  8  9]\n"
     ]
    }
   ],
   "source": [
    "#change the 1st element in x2 as 10\n",
    "x2[0]=10\n",
    "print(x1)#We can see the changes reflected to x1 as well\n",
    "print(x2)"
   ]
  },
  {
   "cell_type": "code",
   "execution_count": 179,
   "id": "30a30076-de60-4812-9ba5-01a6a7aed77c",
   "metadata": {},
   "outputs": [
    {
     "name": "stdout",
     "output_type": "stream",
     "text": [
      "[10  1  2  3  4  5  6  7  8  9]\n",
      "[10  1  2  3  4  5  6  7  8  9]\n",
      "[10  1  2  3  4  5  6  7  8  9]\n"
     ]
    }
   ],
   "source": [
    "x3=x1.view()\n",
    "print(x1)\n",
    "print(x2)\n",
    "print(x3)"
   ]
  },
  {
   "cell_type": "code",
   "execution_count": 180,
   "id": "e9c21d36-8270-4641-88b5-b2bf73c1d304",
   "metadata": {},
   "outputs": [
    {
     "name": "stdout",
     "output_type": "stream",
     "text": [
      "[100   1   2   3   4   5   6   7   8   9]\n",
      "[100   1   2   3   4   5   6   7   8   9]\n",
      "[100   1   2   3   4   5   6   7   8   9]\n"
     ]
    }
   ],
   "source": [
    "x3[0]=100\n",
    "print(x1)\n",
    "print(x2)\n",
    "print(x3)"
   ]
  },
  {
   "cell_type": "code",
   "execution_count": 182,
   "id": "2da87a4b-9dae-4a4e-9beb-9f18da3943b6",
   "metadata": {},
   "outputs": [
    {
     "name": "stdout",
     "output_type": "stream",
     "text": [
      "[100   1   2   3   4   5   6   7   8   9]\n",
      "[100   1   2   3   4   5   6   7   8   9]\n",
      "[100   1   2   3   4   5   6   7   8   9]\n",
      "[100   1   2   3   4   5   6   7   8   9]\n"
     ]
    }
   ],
   "source": [
    "#create a copy x4 which is a copy of x1\n",
    "x4=np.copy(x1)\n",
    "print(x1)\n",
    "print(x2)\n",
    "print(x3)\n",
    "print(x4)"
   ]
  },
  {
   "cell_type": "code",
   "execution_count": 184,
   "id": "391a05e9-4531-4a71-be92-acf0cb48b647",
   "metadata": {},
   "outputs": [
    {
     "name": "stdout",
     "output_type": "stream",
     "text": [
      "[100   1   2   3   4   5   6   7   8   9]\n",
      "[100   1   2   3   4   5   6   7   8   9]\n",
      "[100   1   2   3   4   5   6   7   8   9]\n",
      "[100   1   2   3   4   5   6   7   8  99]\n"
     ]
    }
   ],
   "source": [
    "#change the last elemt of x4 as 99\n",
    "x4[-1]=99\n",
    "print(x1)\n",
    "print(x2)\n",
    "print(x3)\n",
    "print(x4)"
   ]
  },
  {
   "cell_type": "markdown",
   "id": "f040c078-435f-4130-bdd6-b62f3b0f6fb3",
   "metadata": {},
   "source": [
    "**Conditions on arrays**"
   ]
  },
  {
   "cell_type": "code",
   "execution_count": 188,
   "id": "93cb5b3f-b120-4f43-ad0e-7140581f721b",
   "metadata": {},
   "outputs": [
    {
     "data": {
      "text/plain": [
       "array([[1, 2, 3],\n",
       "       [4, 5, 6],\n",
       "       [7, 8, 9]])"
      ]
     },
     "execution_count": 188,
     "metadata": {},
     "output_type": "execute_result"
    }
   ],
   "source": [
    "a=np.array([[1,2,3],[4,5,6],[7,8,9]])\n",
    "a            "
   ]
  },
  {
   "cell_type": "code",
   "execution_count": 189,
   "id": "b4d72c93-28d7-488e-a755-19ed2d1eb20a",
   "metadata": {},
   "outputs": [
    {
     "data": {
      "text/plain": [
       "array([[False, False, False],\n",
       "       [ True,  True,  True],\n",
       "       [ True,  True,  True]])"
      ]
     },
     "execution_count": 189,
     "metadata": {},
     "output_type": "execute_result"
    }
   ],
   "source": [
    "#check which elements in array a a re greter than 3\n",
    "a>3"
   ]
  },
  {
   "cell_type": "code",
   "execution_count": 196,
   "id": "feb3fbff-caf5-48c8-970b-5e82cf1f5a6a",
   "metadata": {},
   "outputs": [
    {
     "data": {
      "text/plain": [
       "array([4, 5, 6, 7, 8, 9])"
      ]
     },
     "execution_count": 196,
     "metadata": {},
     "output_type": "execute_result"
    }
   ],
   "source": [
    "#List element which a re greater than 3\n",
    "a[a>3]#This means from array a select those elements which a re greater than 3"
   ]
  },
  {
   "cell_type": "code",
   "execution_count": 197,
   "id": "4f48742a-1ceb-4f1d-9560-53ab59821220",
   "metadata": {},
   "outputs": [
    {
     "data": {
      "text/plain": [
       "array([4, 5, 6, 7])"
      ]
     },
     "execution_count": 197,
     "metadata": {},
     "output_type": "execute_result"
    }
   ],
   "source": [
    "#Checking the 2 conditions for 1 array\n",
    "a[(a>3) & (a<8)]"
   ]
  },
  {
   "cell_type": "code",
   "execution_count": 202,
   "id": "d3e27f22-dce8-4e5d-b4ef-25e0f8e8d786",
   "metadata": {},
   "outputs": [
    {
     "name": "stdout",
     "output_type": "stream",
     "text": [
      "[100   1   2   3   4   5   6   7   8   9]\n",
      "[  9   8   7   6   5   4   3   2   1 100]\n"
     ]
    },
    {
     "data": {
      "text/plain": [
       "array([False, False, False, False, False, False, False, False, False,\n",
       "       False])"
      ]
     },
     "execution_count": 202,
     "metadata": {},
     "output_type": "execute_result"
    }
   ],
   "source": [
    "#Checking the elements in x1 array are equal to array x5\n",
    "x5=x1[::-1]\n",
    "print(x1)\n",
    "print(x5)\n",
    "x5==x1#returns true "
   ]
  },
  {
   "cell_type": "markdown",
   "id": "47e292ab-c155-47a6-a306-7e5b57eb589c",
   "metadata": {},
   "source": [
    "**Transpose of matrix**\n",
    "*It converts from rows to columns and columns to rows*"
   ]
  },
  {
   "cell_type": "code",
   "execution_count": 205,
   "id": "b7d9988c-55aa-407d-8074-954e455bad18",
   "metadata": {},
   "outputs": [
    {
     "name": "stdout",
     "output_type": "stream",
     "text": [
      "[[1 4 7]\n",
      " [2 5 8]\n",
      " [3 6 9]]\n"
     ]
    },
    {
     "data": {
      "text/plain": [
       "array([[1, 2, 3],\n",
       "       [4, 5, 6],\n",
       "       [7, 8, 9]])"
      ]
     },
     "execution_count": 205,
     "metadata": {},
     "output_type": "execute_result"
    }
   ],
   "source": [
    "#print transpose of a\n",
    "print(a.transpose())\n",
    "a"
   ]
  },
  {
   "cell_type": "markdown",
   "id": "01a7d899-ce0c-44bd-908b-6550b284d1fc",
   "metadata": {},
   "source": [
    "**hstack vs vstack**"
   ]
  },
  {
   "cell_type": "code",
   "execution_count": 211,
   "id": "1633ef81-83f2-47b5-87fd-b72d580229a4",
   "metadata": {},
   "outputs": [
    {
     "name": "stdout",
     "output_type": "stream",
     "text": [
      "1\n",
      "1\n",
      "2\n"
     ]
    },
    {
     "data": {
      "text/plain": [
       "array([[100,   1,   2,   3,   4,   5,   6,   7,   8,   9],\n",
       "       [  9,   8,   7,   6,   5,   4,   3,   2,   1, 100]])"
      ]
     },
     "execution_count": 211,
     "metadata": {},
     "output_type": "execute_result"
    }
   ],
   "source": [
    "print(x1.ndim)#This is 1D\n",
    "print(x5.ndim)#This is 1D\n",
    "print(va.ndim)#after stack it become 2D\n",
    "va=np.vstack((x1,x5))#Vertical stack\n",
    "va"
   ]
  },
  {
   "cell_type": "code",
   "execution_count": 213,
   "id": "96be79be-7d7d-4a5f-868b-a148c56f8ecc",
   "metadata": {},
   "outputs": [
    {
     "data": {
      "text/plain": [
       "array([100,   1,   2,   3,   4,   5,   6,   7,   8,   9,   9,   8,   7,\n",
       "         6,   5,   4,   3,   2,   1, 100])"
      ]
     },
     "execution_count": 213,
     "metadata": {},
     "output_type": "execute_result"
    }
   ],
   "source": [
    "np.hstack((x1,x5))#Horizontal stack"
   ]
  },
  {
   "cell_type": "code",
   "execution_count": 214,
   "id": "471ff4f0-bf15-44a7-95a1-12be9a57fb38",
   "metadata": {},
   "outputs": [
    {
     "name": "stdout",
     "output_type": "stream",
     "text": [
      "[100   1   2   3   4   5   6   7   8   9]\n",
      "[  9   8   7   6   5   4   3   2   1 100]\n"
     ]
    }
   ],
   "source": [
    "#inserting the valus of X1 array into x5 arrat at a specified index position example at 4\n",
    "print(x1)\n",
    "print(x5)"
   ]
  },
  {
   "cell_type": "code",
   "execution_count": 217,
   "id": "6a8a8db0-4bae-4357-9d35-fc769c236dda",
   "metadata": {},
   "outputs": [],
   "source": [
    "ins_arr=np.insert(x1,4,x2)"
   ]
  },
  {
   "cell_type": "code",
   "execution_count": 218,
   "id": "1e84c314-755c-4618-8f13-aaed16330622",
   "metadata": {},
   "outputs": [
    {
     "name": "stdout",
     "output_type": "stream",
     "text": [
      "[100   1   2   3 100   1   2   3   4   5   6   7   8   9   4   5   6   7\n",
      "   8   9]\n"
     ]
    }
   ],
   "source": [
    "print(ins_arr)"
   ]
  },
  {
   "cell_type": "code",
   "execution_count": 220,
   "id": "9c243515-89aa-4565-825b-ebc30dcc6fa9",
   "metadata": {},
   "outputs": [
    {
     "data": {
      "text/plain": [
       "array([  9,   7,   6,   5,   4,   3,   2,   1, 100])"
      ]
     },
     "execution_count": 220,
     "metadata": {},
     "output_type": "execute_result"
    }
   ],
   "source": [
    "np.delete(x5,1)# this is X5 array [  9   8   7   6   5   4   3   2   1 100] ,We can see 8 missing in output for inxex 1 in x5"
   ]
  },
  {
   "cell_type": "code",
   "execution_count": 222,
   "id": "11df364b-c5e3-4cb5-81cc-a8a30d22a787",
   "metadata": {},
   "outputs": [
    {
     "name": "stdout",
     "output_type": "stream",
     "text": [
      "[  9   8   7   6   5   4   3   2   1 100]\n"
     ]
    },
    {
     "data": {
      "text/plain": [
       "array([  1,   2,   3,   4,   5,   6,   7,   8,   9, 100])"
      ]
     },
     "execution_count": 222,
     "metadata": {},
     "output_type": "execute_result"
    }
   ],
   "source": [
    "#sorting a array x5 .Default ascending\n",
    "print(x5)\n",
    "np.sort(x5)"
   ]
  },
  {
   "cell_type": "code",
   "execution_count": 228,
   "id": "38aa3fcd-25c6-4a59-bbc5-cf3527ac1921",
   "metadata": {},
   "outputs": [
    {
     "name": "stdout",
     "output_type": "stream",
     "text": [
      "[  9   8   7   6   5   4   3   2   1 100]\n"
     ]
    },
    {
     "data": {
      "text/plain": [
       "array([100,   9,   8,   7,   6,   5,   4,   3,   2,   1])"
      ]
     },
     "execution_count": 228,
     "metadata": {},
     "output_type": "execute_result"
    }
   ],
   "source": [
    "#sorting a array x5 in decending order\n",
    "print(x5)\n",
    "np.sort(x5)[::-1]"
   ]
  },
  {
   "cell_type": "code",
   "execution_count": 233,
   "id": "5a6137ca-b4aa-4c25-9a01-c154bf8b834d",
   "metadata": {},
   "outputs": [
    {
     "data": {
      "text/plain": [
       "(array([0, 1, 2, 9]),)"
      ]
     },
     "execution_count": 233,
     "metadata": {},
     "output_type": "execute_result"
    }
   ],
   "source": [
    "#using the where function\n",
    "arr1=np.where(x5>6)\n",
    "arr1"
   ]
  },
  {
   "cell_type": "code",
   "execution_count": 234,
   "id": "c2873a87-62f6-4b49-9aab-3e87ecc4b03c",
   "metadata": {},
   "outputs": [
    {
     "name": "stdout",
     "output_type": "stream",
     "text": [
      "['__add__', '__class__', '__class_getitem__', '__contains__', '__delattr__', '__delitem__', '__dir__', '__doc__', '__eq__', '__format__', '__ge__', '__getattribute__', '__getitem__', '__getstate__', '__gt__', '__hash__', '__iadd__', '__imul__', '__init__', '__init_subclass__', '__iter__', '__le__', '__len__', '__lt__', '__mul__', '__ne__', '__new__', '__reduce__', '__reduce_ex__', '__repr__', '__reversed__', '__rmul__', '__setattr__', '__setitem__', '__sizeof__', '__str__', '__subclasshook__', 'append', 'clear', 'copy', 'count', 'extend', 'index', 'insert', 'pop', 'remove', 'reverse', 'sort']\n"
     ]
    }
   ],
   "source": [
    "print(dir(list))"
   ]
  },
  {
   "cell_type": "code",
   "execution_count": null,
   "id": "5f4ec588-8dea-4de3-851b-dbd90c201bcf",
   "metadata": {},
   "outputs": [],
   "source": []
  }
 ],
 "metadata": {
  "kernelspec": {
   "display_name": "Python 3 (ipykernel)",
   "language": "python",
   "name": "python3"
  },
  "language_info": {
   "codemirror_mode": {
    "name": "ipython",
    "version": 3
   },
   "file_extension": ".py",
   "mimetype": "text/x-python",
   "name": "python",
   "nbconvert_exporter": "python",
   "pygments_lexer": "ipython3",
   "version": "3.12.4"
  }
 },
 "nbformat": 4,
 "nbformat_minor": 5
}
